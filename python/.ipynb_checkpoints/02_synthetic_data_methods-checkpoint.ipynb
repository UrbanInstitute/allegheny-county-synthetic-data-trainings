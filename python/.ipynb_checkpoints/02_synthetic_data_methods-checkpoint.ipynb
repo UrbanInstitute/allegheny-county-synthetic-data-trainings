{
 "cells": [
  {
   "cell_type": "markdown",
   "metadata": {},
   "source": [
    "# Lesson 2: Synthetic Data Methods and Case Studies"
   ]
  },
  {
   "cell_type": "markdown",
   "metadata": {},
   "source": [
    "Each section of code is labeled with the corresponding section header in the main lesson. Note that since the random seeds are set differently across R and Python, not all of the values/output will be identical to the R version of the lesson."
   ]
  },
  {
   "cell_type": "markdown",
   "metadata": {},
   "source": [
    "## Basic Imputation Example: Missing `age`"
   ]
  },
  {
   "cell_type": "code",
   "execution_count": 15,
   "metadata": {},
   "outputs": [],
   "source": [
    "# import packages we need\n",
    "import pandas as pd\n",
    "import seaborn as sns \n",
    "from palmerpenguins import load_penguins\n",
    "from numpy import random\n",
    "from scipy import stats"
   ]
  },
  {
   "cell_type": "code",
   "execution_count": 2,
   "metadata": {},
   "outputs": [],
   "source": [
    "# set global defaults for all plots\n",
    "# plot attendee ages\n",
    "sns.set_theme(style=\"whitegrid\", font = \"lato\")"
   ]
  },
  {
   "cell_type": "code",
   "execution_count": 3,
   "metadata": {},
   "outputs": [],
   "source": [
    "# set a seed so pseudo-random processes are reproducible\n",
    "random.seed(20200301)\n",
    "\n",
    "# fake dataframe of conference attendees with missing values\n",
    "sample_conf_data_na = {'attendee_number': list(range(41,81)),\n",
    "        'age': [None]*40}\n",
    " \n",
    "sample_conf_na = pd.DataFrame(sample_conf_data_na)\n",
    "\n",
    "# fake distribution of attendee ages\n",
    "attendee_ages = random.normal(loc=46, scale=13, size=40)\n",
    "\n",
    "attendee_ages\n",
    "\n",
    "# fake dataframe of conference attendees using age distribution\n",
    "sample_conf_data = {'attendee_number': list(range(1,41)),\n",
    "                   'age': list(attendee_ages)}\n",
    "\n",
    "sample_conf = pd.DataFrame(sample_conf_data)\n",
    "\n",
    "# combine for final (fake) conference data\n",
    "sample_conf_final = pd.concat([sample_conf, sample_conf_na])"
   ]
  },
  {
   "cell_type": "code",
   "execution_count": 4,
   "metadata": {},
   "outputs": [
    {
     "data": {
      "text/plain": [
       "[Text(0.5, 1.0, 'Histogram of attendee ages')]"
      ]
     },
     "execution_count": 4,
     "metadata": {},
     "output_type": "execute_result"
    },
    {
     "name": "stderr",
     "output_type": "stream",
     "text": [
      "findfont: Font family ['lato'] not found. Falling back to DejaVu Sans.\n",
      "findfont: Font family ['lato'] not found. Falling back to DejaVu Sans.\n"
     ]
    },
    {
     "data": {
      "image/png": "[encoded data removed]",
      "text/plain": [
       "<Figure size 432x288 with 1 Axes>"
      ]
     },
     "metadata": {},
     "output_type": "display_data"
    }
   ],
   "source": [
    "# plot attendee ages\n",
    "sns.histplot(data = sample_conf, x = 'age').set(title = 'Histogram of attendee ages')\n"
   ]
  },
  {
   "cell_type": "code",
   "execution_count": 5,
   "metadata": {},
   "outputs": [],
   "source": [
    "# replace None values with mean age\n",
    "sample_conf_final['age'] = sample_conf_final['age'].fillna(sample_conf_final['age'].mean())\n",
    "\n",
    "sample_conf_final = sample_conf_final.reset_index(drop = True)"
   ]
  },
  {
   "cell_type": "code",
   "execution_count": 6,
   "metadata": {},
   "outputs": [
    {
     "data": {
      "text/plain": [
       "[Text(0.5, 1.0, 'Histogram of attendee ages (with missing values imputed)')]"
      ]
     },
     "execution_count": 6,
     "metadata": {},
     "output_type": "execute_result"
    },
    {
     "data": {
      "image/png": "[encoded data removed]",
      "text/plain": [
       "<Figure size 432x288 with 1 Axes>"
      ]
     },
     "metadata": {},
     "output_type": "display_data"
    }
   ],
   "source": [
    "# replot the histogram\n",
    "sns.histplot(data = sample_conf_final, x = 'age').set(title = 'Histogram of attendee ages (with missing values imputed)')"
   ]
  },
  {
   "cell_type": "markdown",
   "metadata": {},
   "source": [
    "## Demonstration: Fully synthetic `palmerpenguins` data"
   ]
  },
  {
   "cell_type": "code",
   "execution_count": 7,
   "metadata": {},
   "outputs": [],
   "source": [
    "# create dataset we will be using\n",
    "penguins = load_penguins()\n",
    "penguins = penguins[['sex', 'bill_length_mm', 'flipper_length_mm']].dropna()"
   ]
  },
  {
   "cell_type": "code",
   "execution_count": 8,
   "metadata": {},
   "outputs": [
    {
     "data": {
      "text/html": [
       "<div>\n",
       "<style scoped>\n",
       "    .dataframe tbody tr th:only-of-type {\n",
       "        vertical-align: middle;\n",
       "    }\n",
       "\n",
       "    .dataframe tbody tr th {\n",
       "        vertical-align: top;\n",
       "    }\n",
       "\n",
       "    .dataframe thead th {\n",
       "        text-align: right;\n",
       "    }\n",
       "</style>\n",
       "<table border=\"1\" class=\"dataframe\">\n",
       "  <thead>\n",
       "    <tr style=\"text-align: right;\">\n",
       "      <th></th>\n",
       "      <th>sex</th>\n",
       "      <th>bill_length_mm</th>\n",
       "      <th>flipper_length_mm</th>\n",
       "    </tr>\n",
       "  </thead>\n",
       "  <tbody>\n",
       "    <tr>\n",
       "      <th>0</th>\n",
       "      <td>male</td>\n",
       "      <td>39.1</td>\n",
       "      <td>181.0</td>\n",
       "    </tr>\n",
       "    <tr>\n",
       "      <th>1</th>\n",
       "      <td>female</td>\n",
       "      <td>39.5</td>\n",
       "      <td>186.0</td>\n",
       "    </tr>\n",
       "    <tr>\n",
       "      <th>2</th>\n",
       "      <td>female</td>\n",
       "      <td>40.3</td>\n",
       "      <td>195.0</td>\n",
       "    </tr>\n",
       "    <tr>\n",
       "      <th>4</th>\n",
       "      <td>female</td>\n",
       "      <td>36.7</td>\n",
       "      <td>193.0</td>\n",
       "    </tr>\n",
       "    <tr>\n",
       "      <th>5</th>\n",
       "      <td>male</td>\n",
       "      <td>39.3</td>\n",
       "      <td>190.0</td>\n",
       "    </tr>\n",
       "    <tr>\n",
       "      <th>...</th>\n",
       "      <td>...</td>\n",
       "      <td>...</td>\n",
       "      <td>...</td>\n",
       "    </tr>\n",
       "    <tr>\n",
       "      <th>339</th>\n",
       "      <td>male</td>\n",
       "      <td>55.8</td>\n",
       "      <td>207.0</td>\n",
       "    </tr>\n",
       "    <tr>\n",
       "      <th>340</th>\n",
       "      <td>female</td>\n",
       "      <td>43.5</td>\n",
       "      <td>202.0</td>\n",
       "    </tr>\n",
       "    <tr>\n",
       "      <th>341</th>\n",
       "      <td>male</td>\n",
       "      <td>49.6</td>\n",
       "      <td>193.0</td>\n",
       "    </tr>\n",
       "    <tr>\n",
       "      <th>342</th>\n",
       "      <td>male</td>\n",
       "      <td>50.8</td>\n",
       "      <td>210.0</td>\n",
       "    </tr>\n",
       "    <tr>\n",
       "      <th>343</th>\n",
       "      <td>female</td>\n",
       "      <td>50.2</td>\n",
       "      <td>198.0</td>\n",
       "    </tr>\n",
       "  </tbody>\n",
       "</table>\n",
       "<p>333 rows × 3 columns</p>\n",
       "</div>"
      ],
      "text/plain": [
       "        sex  bill_length_mm  flipper_length_mm\n",
       "0      male            39.1              181.0\n",
       "1    female            39.5              186.0\n",
       "2    female            40.3              195.0\n",
       "4    female            36.7              193.0\n",
       "5      male            39.3              190.0\n",
       "..      ...             ...                ...\n",
       "339    male            55.8              207.0\n",
       "340  female            43.5              202.0\n",
       "341    male            49.6              193.0\n",
       "342    male            50.8              210.0\n",
       "343  female            50.2              198.0\n",
       "\n",
       "[333 rows x 3 columns]"
      ]
     },
     "execution_count": 8,
     "metadata": {},
     "output_type": "execute_result"
    }
   ],
   "source": [
    "penguins"
   ]
  },
  {
   "cell_type": "markdown",
   "metadata": {},
   "source": [
    "### Synthesize `sex` variable"
   ]
  },
  {
   "cell_type": "code",
   "execution_count": 9,
   "metadata": {},
   "outputs": [
    {
     "data": {
      "text/html": [
       "<div>\n",
       "<style scoped>\n",
       "    .dataframe tbody tr th:only-of-type {\n",
       "        vertical-align: middle;\n",
       "    }\n",
       "\n",
       "    .dataframe tbody tr th {\n",
       "        vertical-align: top;\n",
       "    }\n",
       "\n",
       "    .dataframe thead th {\n",
       "        text-align: right;\n",
       "    }\n",
       "</style>\n",
       "<table border=\"1\" class=\"dataframe\">\n",
       "  <thead>\n",
       "    <tr style=\"text-align: right;\">\n",
       "      <th></th>\n",
       "      <th>n</th>\n",
       "      <th>relative frequency</th>\n",
       "    </tr>\n",
       "  </thead>\n",
       "  <tbody>\n",
       "    <tr>\n",
       "      <th>male</th>\n",
       "      <td>168</td>\n",
       "      <td>0.504505</td>\n",
       "    </tr>\n",
       "    <tr>\n",
       "      <th>female</th>\n",
       "      <td>165</td>\n",
       "      <td>0.495495</td>\n",
       "    </tr>\n",
       "  </tbody>\n",
       "</table>\n",
       "</div>"
      ],
      "text/plain": [
       "          n  relative frequency\n",
       "male    168            0.504505\n",
       "female  165            0.495495"
      ]
     },
     "execution_count": 9,
     "metadata": {},
     "output_type": "execute_result"
    }
   ],
   "source": [
    "# identify percentage of total that each category (sex) makes up\n",
    "absolute_freq = penguins['sex'].value_counts()\n",
    "\n",
    "relative_freq = penguins['sex'].value_counts(normalize = True)\n",
    "\n",
    "pd.concat([absolute_freq.to_frame(name = \"n\"), relative_freq.to_frame(name = \"relative frequency\")], axis = 1)"
   ]
  },
  {
   "cell_type": "code",
   "execution_count": 10,
   "metadata": {},
   "outputs": [],
   "source": [
    "# set a seed so pseudo-random processes are reproducible\n",
    "random.seed(20200301)\n",
    "\n",
    "# list of sex categories\n",
    "sex_categories = penguins['sex'].unique().tolist()\n",
    "\n",
    "# size of sample to generate\n",
    "synthetic_data_size = len(penguins)\n",
    "\n",
    "# probability weights\n",
    "sex_probs = relative_freq.to_numpy()\n",
    "\n",
    "# use random.choice to generate synthetic sample of sex\n",
    "sex_synthetic = random.choice(a = sex_categories, size = synthetic_data_size, p = sex_probs)"
   ]
  },
  {
   "cell_type": "code",
   "execution_count": 11,
   "metadata": {},
   "outputs": [
    {
     "data": {
      "text/html": [
       "<div>\n",
       "<style scoped>\n",
       "    .dataframe tbody tr th:only-of-type {\n",
       "        vertical-align: middle;\n",
       "    }\n",
       "\n",
       "    .dataframe tbody tr th {\n",
       "        vertical-align: top;\n",
       "    }\n",
       "\n",
       "    .dataframe thead th {\n",
       "        text-align: right;\n",
       "    }\n",
       "</style>\n",
       "<table border=\"1\" class=\"dataframe\">\n",
       "  <thead>\n",
       "    <tr style=\"text-align: right;\">\n",
       "      <th></th>\n",
       "      <th>sex</th>\n",
       "    </tr>\n",
       "  </thead>\n",
       "  <tbody>\n",
       "    <tr>\n",
       "      <th>0</th>\n",
       "      <td>female</td>\n",
       "    </tr>\n",
       "    <tr>\n",
       "      <th>1</th>\n",
       "      <td>female</td>\n",
       "    </tr>\n",
       "    <tr>\n",
       "      <th>2</th>\n",
       "      <td>female</td>\n",
       "    </tr>\n",
       "    <tr>\n",
       "      <th>3</th>\n",
       "      <td>male</td>\n",
       "    </tr>\n",
       "    <tr>\n",
       "      <th>4</th>\n",
       "      <td>male</td>\n",
       "    </tr>\n",
       "    <tr>\n",
       "      <th>...</th>\n",
       "      <td>...</td>\n",
       "    </tr>\n",
       "    <tr>\n",
       "      <th>328</th>\n",
       "      <td>male</td>\n",
       "    </tr>\n",
       "    <tr>\n",
       "      <th>329</th>\n",
       "      <td>male</td>\n",
       "    </tr>\n",
       "    <tr>\n",
       "      <th>330</th>\n",
       "      <td>male</td>\n",
       "    </tr>\n",
       "    <tr>\n",
       "      <th>331</th>\n",
       "      <td>male</td>\n",
       "    </tr>\n",
       "    <tr>\n",
       "      <th>332</th>\n",
       "      <td>male</td>\n",
       "    </tr>\n",
       "  </tbody>\n",
       "</table>\n",
       "<p>333 rows × 1 columns</p>\n",
       "</div>"
      ],
      "text/plain": [
       "        sex\n",
       "0    female\n",
       "1    female\n",
       "2    female\n",
       "3      male\n",
       "4      male\n",
       "..      ...\n",
       "328    male\n",
       "329    male\n",
       "330    male\n",
       "331    male\n",
       "332    male\n",
       "\n",
       "[333 rows x 1 columns]"
      ]
     },
     "execution_count": 11,
     "metadata": {},
     "output_type": "execute_result"
    }
   ],
   "source": [
    "# use array to generate synthetic gender column\n",
    "penguins_synthetic = pd.DataFrame(sex_synthetic, columns = ['sex'])\n",
    "\n",
    "penguins_synthetic"
   ]
  },
  {
   "cell_type": "markdown",
   "metadata": {},
   "source": [
    "### Synthesize `bill_length_mm` variable"
   ]
  },
  {
   "cell_type": "code",
   "execution_count": 12,
   "metadata": {},
   "outputs": [
    {
     "data": {
      "text/plain": [
       "count    333.000000\n",
       "mean      43.992793\n",
       "std        5.468668\n",
       "min       32.100000\n",
       "25%       39.500000\n",
       "50%       44.500000\n",
       "75%       48.600000\n",
       "max       59.600000\n",
       "Name: bill_length_mm, dtype: float64"
      ]
     },
     "execution_count": 12,
     "metadata": {},
     "output_type": "execute_result"
    }
   ],
   "source": [
    "# summarize bill_length_mm\n",
    "penguins['bill_length_mm'].describe()"
   ]
  },
  {
   "cell_type": "code",
   "execution_count": 34,
   "metadata": {},
   "outputs": [],
   "source": [
    "# make sex binary for regression\n",
    "penguins['sex'] = penguins['sex'].replace(['male', 'female'], [0, 1])\n",
    "\n",
    "# linear regression with sex as a predictor\n",
    "penguins_lm = stats.linregress(x = penguins['sex'].to_numpy(), \n",
    "                               y = penguins['bill_length_mm'].to_numpy())"
   ]
  },
  {
   "cell_type": "code",
   "execution_count": null,
   "metadata": {},
   "outputs": [],
   "source": []
  }
 ],
 "metadata": {
  "kernelspec": {
   "display_name": "firstKernel",
   "language": "python",
   "name": "firstkernel"
  },
  "language_info": {
   "codemirror_mode": {
    "name": "ipython",
    "version": 3
   },
   "file_extension": ".py",
   "mimetype": "text/x-python",
   "name": "python",
   "nbconvert_exporter": "python",
   "pygments_lexer": "ipython3",
   "version": "3.9.7"
  }
 },
 "nbformat": 4,
 "nbformat_minor": 4
}
